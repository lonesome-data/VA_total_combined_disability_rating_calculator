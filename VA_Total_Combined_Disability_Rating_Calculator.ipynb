{
  "nbformat": 4,
  "nbformat_minor": 0,
  "metadata": {
    "colab": {
      "name": "VA Total Combined Disability Rating Calculator",
      "version": "0.3.2",
      "provenance": [],
      "include_colab_link": true
    },
    "kernelspec": {
      "name": "python3",
      "display_name": "Python 3"
    }
  },
  "cells": [
    {
      "cell_type": "markdown",
      "metadata": {
        "id": "view-in-github",
        "colab_type": "text"
      },
      "source": [
        "<a href=\"https://colab.research.google.com/github/lonesome-data/VA_total_combined_disability_rating_calculator/blob/master/VA_Total_Combined_Disability_Rating_Calculator.ipynb\" target=\"_parent\"><img src=\"https://colab.research.google.com/assets/colab-badge.svg\" alt=\"Open In Colab\"/></a>"
      ]
    },
    {
      "metadata": {
        "id": "-mOKx_GmFTUO",
        "colab_type": "code",
        "colab": {
          "base_uri": "https://localhost:8080/",
          "height": 54
        },
        "outputId": "481209aa-d25c-4d29-de74-425dcf877fbe"
      },
      "cell_type": "code",
      "source": [
        "input_string = input(\"Enter non-zero VA ratings separated by space (e.g., 60 30 20):       \")\n",
        "\n",
        "#split string into elements\n",
        "split_input_string  = input_string.split()\n",
        "\n",
        "# convert each element into an integer\n",
        "num_list = []\n",
        "for element in split_input_string:\n",
        "  num_list.append(int(element)) \n",
        "  \n",
        "# convert ratings from percentage to decimal\n",
        "dec_list = [.01 * x for x in num_list]\n",
        "\n",
        "# calculate ability from each disability (1 - disability)\n",
        "# subtract each element from 1\n",
        "ability_list = [1 - x for x in dec_list]\n",
        "\n",
        "# multiply each element in the list\n",
        "import numpy as np\n",
        "product = np.prod(ability_list)\n",
        "\n",
        "# convert from dec to percent\n",
        "percent_disability = 100*(1 - product)\n",
        "\n",
        "#round to nearest ten\n",
        "rounded_cumulative_disability =  int(round(percent_disability, -1))\n",
        "\n",
        "print(\"Total Combined Disability Rating:  \", rounded_cumulative_disability)\n"
      ],
      "execution_count": 60,
      "outputs": [
        {
          "output_type": "stream",
          "text": [
            "Enter non-zero VA ratings separated by space (e.g., 60 30 20):       50 30 20\n",
            "Total Combined Disability Rating:   70\n"
          ],
          "name": "stdout"
        }
      ]
    },
    {
      "metadata": {
        "id": "fayOh4x4K2NF",
        "colab_type": "code",
        "colab": {}
      },
      "cell_type": "code",
      "source": [
        ""
      ],
      "execution_count": 0,
      "outputs": []
    }
  ]
}